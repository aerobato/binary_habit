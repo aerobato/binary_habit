{
 "cells": [
  {
   "cell_type": "markdown",
   "id": "e7dccf65",
   "metadata": {},
   "source": [
    "## Notebook for Preliminary Setup and Analysis"
   ]
  },
  {
   "cell_type": "code",
   "execution_count": 1,
   "id": "f8b58068",
   "metadata": {
    "ExecuteTime": {
     "end_time": "2021-11-14T20:16:44.299609Z",
     "start_time": "2021-11-14T20:16:43.180580Z"
    }
   },
   "outputs": [],
   "source": [
    "import numpy as np\n",
    "import pandas as pd\n",
    "import matplotlib.pyplot as plt\n",
    "\n",
    "from pathlib import Path"
   ]
  },
  {
   "cell_type": "code",
   "execution_count": 2,
   "id": "ee672848",
   "metadata": {
    "ExecuteTime": {
     "end_time": "2021-11-14T20:16:44.314967Z",
     "start_time": "2021-11-14T20:16:44.299609Z"
    }
   },
   "outputs": [],
   "source": [
    "# Define file locations\n",
    "\n",
    "data_path = Path.cwd() / 'data'\n",
    "reports_path = Path.cwd() / 'reports'\n",
    "plotting_path = Path.cwd() / 'visualizations'"
   ]
  },
  {
   "cell_type": "code",
   "execution_count": 3,
   "id": "5b07c06c",
   "metadata": {
    "ExecuteTime": {
     "end_time": "2021-11-14T20:16:44.330730Z",
     "start_time": "2021-11-14T20:16:44.315968Z"
    }
   },
   "outputs": [],
   "source": [
    "# Define 2 Series. One is a NumPy normal distribution, the other is random integers from 0 to 42\n",
    "\n",
    "col_a = pd.Series(np.random.randn(100))\n",
    "col_b = pd.Series(np.random.randint(42, size=100))"
   ]
  },
  {
   "cell_type": "code",
   "execution_count": 4,
   "id": "3eb9a5f2",
   "metadata": {
    "ExecuteTime": {
     "end_time": "2021-11-14T20:16:44.346320Z",
     "start_time": "2021-11-14T20:16:44.332730Z"
    }
   },
   "outputs": [],
   "source": [
    "# Cast the 2 Series as a dictionary and create a dataframe\n",
    "\n",
    "df_data = {'norm_dist': col_a, 'ints': col_b}\n",
    "sample_df = pd.concat(df_data, axis=1)"
   ]
  },
  {
   "cell_type": "code",
   "execution_count": 5,
   "id": "7416800f",
   "metadata": {
    "ExecuteTime": {
     "end_time": "2021-11-14T20:16:44.374114Z",
     "start_time": "2021-11-14T20:16:44.347322Z"
    }
   },
   "outputs": [
    {
     "data": {
      "text/html": [
       "<div>\n",
       "<style scoped>\n",
       "    .dataframe tbody tr th:only-of-type {\n",
       "        vertical-align: middle;\n",
       "    }\n",
       "\n",
       "    .dataframe tbody tr th {\n",
       "        vertical-align: top;\n",
       "    }\n",
       "\n",
       "    .dataframe thead th {\n",
       "        text-align: right;\n",
       "    }\n",
       "</style>\n",
       "<table border=\"1\" class=\"dataframe\">\n",
       "  <thead>\n",
       "    <tr style=\"text-align: right;\">\n",
       "      <th></th>\n",
       "      <th>norm_dist</th>\n",
       "      <th>ints</th>\n",
       "    </tr>\n",
       "  </thead>\n",
       "  <tbody>\n",
       "    <tr>\n",
       "      <th>0</th>\n",
       "      <td>0.640088</td>\n",
       "      <td>28</td>\n",
       "    </tr>\n",
       "    <tr>\n",
       "      <th>1</th>\n",
       "      <td>-0.150223</td>\n",
       "      <td>41</td>\n",
       "    </tr>\n",
       "    <tr>\n",
       "      <th>2</th>\n",
       "      <td>0.051363</td>\n",
       "      <td>3</td>\n",
       "    </tr>\n",
       "    <tr>\n",
       "      <th>3</th>\n",
       "      <td>-1.239010</td>\n",
       "      <td>18</td>\n",
       "    </tr>\n",
       "    <tr>\n",
       "      <th>4</th>\n",
       "      <td>0.991666</td>\n",
       "      <td>27</td>\n",
       "    </tr>\n",
       "  </tbody>\n",
       "</table>\n",
       "</div>"
      ],
      "text/plain": [
       "   norm_dist  ints\n",
       "0   0.640088    28\n",
       "1  -0.150223    41\n",
       "2   0.051363     3\n",
       "3  -1.239010    18\n",
       "4   0.991666    27"
      ]
     },
     "execution_count": 5,
     "metadata": {},
     "output_type": "execute_result"
    }
   ],
   "source": [
    "sample_df.head()"
   ]
  },
  {
   "cell_type": "code",
   "execution_count": 6,
   "id": "65bdb346",
   "metadata": {
    "ExecuteTime": {
     "end_time": "2021-11-14T20:16:44.389856Z",
     "start_time": "2021-11-14T20:16:44.374114Z"
    }
   },
   "outputs": [],
   "source": [
    "sample_df.to_csv(str(data_path) + '\\\\test.csv', index=False)"
   ]
  },
  {
   "cell_type": "code",
   "execution_count": 7,
   "id": "b5b37b4a",
   "metadata": {
    "ExecuteTime": {
     "end_time": "2021-11-14T20:16:44.405551Z",
     "start_time": "2021-11-14T20:16:44.390856Z"
    }
   },
   "outputs": [
    {
     "data": {
      "text/plain": [
       "norm_dist    float64\n",
       "ints           int32\n",
       "dtype: object"
      ]
     },
     "execution_count": 7,
     "metadata": {},
     "output_type": "execute_result"
    }
   ],
   "source": [
    "sample_df.dtypes"
   ]
  },
  {
   "cell_type": "code",
   "execution_count": 8,
   "id": "f5232a28",
   "metadata": {
    "ExecuteTime": {
     "end_time": "2021-11-14T20:16:44.421663Z",
     "start_time": "2021-11-14T20:16:44.406552Z"
    }
   },
   "outputs": [
    {
     "name": "stdout",
     "output_type": "stream",
     "text": [
      "the median is 20.5\n",
      "the mean is 19.46\n"
     ]
    }
   ],
   "source": [
    "median = sample_df.ints.median()\n",
    "mean = sample_df.ints.mean()\n",
    "print(\"the median is\", median)\n",
    "print(\"the mean is\", mean)"
   ]
  },
  {
   "cell_type": "code",
   "execution_count": 9,
   "id": "712b7dad",
   "metadata": {
    "ExecuteTime": {
     "end_time": "2021-11-14T20:16:44.437219Z",
     "start_time": "2021-11-14T20:16:44.422665Z"
    }
   },
   "outputs": [
    {
     "data": {
      "text/html": [
       "<div>\n",
       "<style scoped>\n",
       "    .dataframe tbody tr th:only-of-type {\n",
       "        vertical-align: middle;\n",
       "    }\n",
       "\n",
       "    .dataframe tbody tr th {\n",
       "        vertical-align: top;\n",
       "    }\n",
       "\n",
       "    .dataframe thead th {\n",
       "        text-align: right;\n",
       "    }\n",
       "</style>\n",
       "<table border=\"1\" class=\"dataframe\">\n",
       "  <thead>\n",
       "    <tr style=\"text-align: right;\">\n",
       "      <th></th>\n",
       "      <th>norm_dist</th>\n",
       "      <th>ints</th>\n",
       "    </tr>\n",
       "  </thead>\n",
       "  <tbody>\n",
       "    <tr>\n",
       "      <th>99</th>\n",
       "      <td>-0.975549</td>\n",
       "      <td>0</td>\n",
       "    </tr>\n",
       "    <tr>\n",
       "      <th>7</th>\n",
       "      <td>0.379571</td>\n",
       "      <td>0</td>\n",
       "    </tr>\n",
       "    <tr>\n",
       "      <th>69</th>\n",
       "      <td>0.912805</td>\n",
       "      <td>1</td>\n",
       "    </tr>\n",
       "    <tr>\n",
       "      <th>60</th>\n",
       "      <td>-1.245748</td>\n",
       "      <td>2</td>\n",
       "    </tr>\n",
       "    <tr>\n",
       "      <th>83</th>\n",
       "      <td>-0.168210</td>\n",
       "      <td>2</td>\n",
       "    </tr>\n",
       "    <tr>\n",
       "      <th>...</th>\n",
       "      <td>...</td>\n",
       "      <td>...</td>\n",
       "    </tr>\n",
       "    <tr>\n",
       "      <th>31</th>\n",
       "      <td>-0.919714</td>\n",
       "      <td>38</td>\n",
       "    </tr>\n",
       "    <tr>\n",
       "      <th>50</th>\n",
       "      <td>0.841077</td>\n",
       "      <td>39</td>\n",
       "    </tr>\n",
       "    <tr>\n",
       "      <th>44</th>\n",
       "      <td>0.405756</td>\n",
       "      <td>41</td>\n",
       "    </tr>\n",
       "    <tr>\n",
       "      <th>56</th>\n",
       "      <td>-0.835077</td>\n",
       "      <td>41</td>\n",
       "    </tr>\n",
       "    <tr>\n",
       "      <th>1</th>\n",
       "      <td>-0.150223</td>\n",
       "      <td>41</td>\n",
       "    </tr>\n",
       "  </tbody>\n",
       "</table>\n",
       "<p>100 rows × 2 columns</p>\n",
       "</div>"
      ],
      "text/plain": [
       "    norm_dist  ints\n",
       "99  -0.975549     0\n",
       "7    0.379571     0\n",
       "69   0.912805     1\n",
       "60  -1.245748     2\n",
       "83  -0.168210     2\n",
       "..        ...   ...\n",
       "31  -0.919714    38\n",
       "50   0.841077    39\n",
       "44   0.405756    41\n",
       "56  -0.835077    41\n",
       "1   -0.150223    41\n",
       "\n",
       "[100 rows x 2 columns]"
      ]
     },
     "execution_count": 9,
     "metadata": {},
     "output_type": "execute_result"
    }
   ],
   "source": [
    "sample_df.sort_values(by='ints')"
   ]
  },
  {
   "cell_type": "code",
   "execution_count": 10,
   "id": "6dd9e2e7",
   "metadata": {
    "ExecuteTime": {
     "end_time": "2021-11-14T20:16:44.607477Z",
     "start_time": "2021-11-14T20:16:44.439220Z"
    }
   },
   "outputs": [
    {
     "data": {
      "text/plain": [
       "<matplotlib.collections.PathCollection at 0x25d47a089a0>"
      ]
     },
     "execution_count": 10,
     "metadata": {},
     "output_type": "execute_result"
    },
    {
     "data": {
      "image/png": "[encoded data removed]",
      "text/plain": [
       "<Figure size 432x288 with 1 Axes>"
      ]
     },
     "metadata": {
      "needs_background": "light"
     },
     "output_type": "display_data"
    }
   ],
   "source": [
    "x = col_a\n",
    "y = col_b\n",
    "plt.scatter(x, y)"
   ]
  },
  {
   "cell_type": "markdown",
   "id": "3c7a93f4",
   "metadata": {},
   "source": [
    "## Harmless change to see if I can send this back up to the repo"
   ]
  },
  {
   "cell_type": "markdown",
   "id": "055ad0e3",
   "metadata": {},
   "source": [
    "# Another harmless change to see if I can replicate the workflow"
   ]
  }
 ],
 "metadata": {
  "kernelspec": {
   "display_name": "Python 3 (ipykernel)",
   "language": "python",
   "name": "python3"
  },
  "language_info": {
   "codemirror_mode": {
    "name": "ipython",
    "version": 3
   },
   "file_extension": ".py",
   "mimetype": "text/x-python",
   "name": "python",
   "nbconvert_exporter": "python",
   "pygments_lexer": "ipython3",
   "version": "3.8.8"
  },
  "toc": {
   "base_numbering": 1,
   "nav_menu": {},
   "number_sections": true,
   "sideBar": true,
   "skip_h1_title": false,
   "title_cell": "Table of Contents",
   "title_sidebar": "Contents",
   "toc_cell": false,
   "toc_position": {},
   "toc_section_display": true,
   "toc_window_display": false
  },
  "varInspector": {
   "cols": {
    "lenName": 16,
    "lenType": 16,
    "lenVar": 40
   },
   "kernels_config": {
    "python": {
     "delete_cmd_postfix": "",
     "delete_cmd_prefix": "del ",
     "library": "var_list.py",
     "varRefreshCmd": "print(var_dic_list())"
    },
    "r": {
     "delete_cmd_postfix": ") ",
     "delete_cmd_prefix": "rm(",
     "library": "var_list.r",
     "varRefreshCmd": "cat(var_dic_list()) "
    }
   },
   "types_to_exclude": [
    "module",
    "function",
    "builtin_function_or_method",
    "instance",
    "_Feature"
   ],
   "window_display": false
  }
 },
 "nbformat": 4,
 "nbformat_minor": 5
}
