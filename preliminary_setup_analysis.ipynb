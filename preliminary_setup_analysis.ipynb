{
 "cells": [
  {
   "cell_type": "markdown",
   "id": "e7dccf65",
   "metadata": {},
   "source": [
    "## Notebook for Priliminary Setup and Analysis"
   ]
  },
  {
   "cell_type": "code",
   "execution_count": 2,
   "id": "f8b58068",
   "metadata": {},
   "outputs": [],
   "source": [
    "import numpy as np\n",
    "import pandas as pd\n",
    "import matplotlib.pyplot as plt\n",
    "\n",
    "from pathlib import Path"
   ]
  },
  {
   "cell_type": "code",
   "execution_count": 3,
   "id": "ee672848",
   "metadata": {},
   "outputs": [],
   "source": [
    "# Define file locations\n",
    "\n",
    "data_path = Path.cwd() / 'data'\n",
    "reports_path = Path.cwd() / 'reports'\n",
    "plotting_path = Path.cwd() / 'visualizations'"
   ]
  },
  {
   "cell_type": "code",
   "execution_count": 4,
   "id": "5b07c06c",
   "metadata": {},
   "outputs": [],
   "source": [
    "# Define 2 Series. One is a NumPy normal distribution, the other is random integers from 0 to 42\n",
    "\n",
    "col_a = pd.Series(np.random.randn(100))\n",
    "col_b = pd.Series(np.random.randint(42, size=100))"
   ]
  },
  {
   "cell_type": "code",
   "execution_count": 20,
   "id": "3eb9a5f2",
   "metadata": {},
   "outputs": [],
   "source": [
    "# Cast the 2 Series as a dictionary and create a dataframe\n",
    "\n",
    "df_data = {'norm_dist': col_a, 'ints': col_b}\n",
    "sample_df = pd.concat(df_data, axis=1)"
   ]
  },
  {
   "cell_type": "code",
   "execution_count": 21,
   "id": "7416800f",
   "metadata": {},
   "outputs": [
    {
     "data": {
      "text/html": [
       "<div>\n",
       "<style scoped>\n",
       "    .dataframe tbody tr th:only-of-type {\n",
       "        vertical-align: middle;\n",
       "    }\n",
       "\n",
       "    .dataframe tbody tr th {\n",
       "        vertical-align: top;\n",
       "    }\n",
       "\n",
       "    .dataframe thead th {\n",
       "        text-align: right;\n",
       "    }\n",
       "</style>\n",
       "<table border=\"1\" class=\"dataframe\">\n",
       "  <thead>\n",
       "    <tr style=\"text-align: right;\">\n",
       "      <th></th>\n",
       "      <th>norm_dist</th>\n",
       "      <th>ints</th>\n",
       "    </tr>\n",
       "  </thead>\n",
       "  <tbody>\n",
       "    <tr>\n",
       "      <th>0</th>\n",
       "      <td>0.843716</td>\n",
       "      <td>2</td>\n",
       "    </tr>\n",
       "    <tr>\n",
       "      <th>1</th>\n",
       "      <td>1.384382</td>\n",
       "      <td>34</td>\n",
       "    </tr>\n",
       "    <tr>\n",
       "      <th>2</th>\n",
       "      <td>-0.436758</td>\n",
       "      <td>39</td>\n",
       "    </tr>\n",
       "    <tr>\n",
       "      <th>3</th>\n",
       "      <td>-0.401568</td>\n",
       "      <td>38</td>\n",
       "    </tr>\n",
       "    <tr>\n",
       "      <th>4</th>\n",
       "      <td>0.804435</td>\n",
       "      <td>3</td>\n",
       "    </tr>\n",
       "  </tbody>\n",
       "</table>\n",
       "</div>"
      ],
      "text/plain": [
       "   norm_dist  ints\n",
       "0   0.843716     2\n",
       "1   1.384382    34\n",
       "2  -0.436758    39\n",
       "3  -0.401568    38\n",
       "4   0.804435     3"
      ]
     },
     "execution_count": 21,
     "metadata": {},
     "output_type": "execute_result"
    }
   ],
   "source": [
    "sample_df.head()"
   ]
  },
  {
   "cell_type": "code",
   "execution_count": 26,
   "id": "65bdb346",
   "metadata": {},
   "outputs": [],
   "source": [
    "sample_df.to_csv(str(data_path) + '\\\\test.csv', index=False)"
   ]
  },
  {
   "cell_type": "code",
   "execution_count": null,
   "id": "b5b37b4a",
   "metadata": {},
   "outputs": [],
   "source": []
  }
 ],
 "metadata": {
  "kernelspec": {
   "display_name": "Python 3 (ipykernel)",
   "language": "python",
   "name": "python3"
  },
  "language_info": {
   "codemirror_mode": {
    "name": "ipython",
    "version": 3
   },
   "file_extension": ".py",
   "mimetype": "text/x-python",
   "name": "python",
   "nbconvert_exporter": "python",
   "pygments_lexer": "ipython3",
   "version": "3.9.7"
  }
 },
 "nbformat": 4,
 "nbformat_minor": 5
}
