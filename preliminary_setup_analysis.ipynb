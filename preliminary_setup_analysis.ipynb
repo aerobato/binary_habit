{
 "cells": [
  {
   "cell_type": "markdown",
   "id": "e7dccf65",
   "metadata": {},
   "source": [
    "## Notebook for Preliminary Setup and Analysis"
   ]
  },
  {
   "cell_type": "code",
   "execution_count": 11,
   "id": "f8b58068",
   "metadata": {
    "ExecuteTime": {
     "end_time": "2021-11-13T03:16:10.669002Z",
     "start_time": "2021-11-13T03:16:10.650998Z"
    }
   },
   "outputs": [],
   "source": [
    "import numpy as np\n",
    "import pandas as pd\n",
    "import matplotlib.pyplot as plt\n",
    "\n",
    "from pathlib import Path"
   ]
  },
  {
   "cell_type": "code",
   "execution_count": 12,
   "id": "ee672848",
   "metadata": {
    "ExecuteTime": {
     "end_time": "2021-11-13T03:16:10.685006Z",
     "start_time": "2021-11-13T03:16:10.671003Z"
    }
   },
   "outputs": [],
   "source": [
    "# Define file locations\n",
    "\n",
    "data_path = Path.cwd() / 'data'\n",
    "reports_path = Path.cwd() / 'reports'\n",
    "plotting_path = Path.cwd() / 'visualizations'"
   ]
  },
  {
   "cell_type": "code",
   "execution_count": 13,
   "id": "5b07c06c",
   "metadata": {
    "ExecuteTime": {
     "end_time": "2021-11-13T03:16:10.701009Z",
     "start_time": "2021-11-13T03:16:10.688006Z"
    }
   },
   "outputs": [],
   "source": [
    "# Define 2 Series. One is a NumPy normal distribution, the other is random integers from 0 to 42\n",
    "\n",
    "col_a = pd.Series(np.random.randn(100))\n",
    "col_b = pd.Series(np.random.randint(42, size=100))"
   ]
  },
  {
   "cell_type": "code",
   "execution_count": 14,
   "id": "3eb9a5f2",
   "metadata": {
    "ExecuteTime": {
     "end_time": "2021-11-13T03:16:10.717013Z",
     "start_time": "2021-11-13T03:16:10.704012Z"
    }
   },
   "outputs": [],
   "source": [
    "# Cast the 2 Series as a dictionary and create a dataframe\n",
    "\n",
    "df_data = {'norm_dist': col_a, 'ints': col_b}\n",
    "sample_df = pd.concat(df_data, axis=1)"
   ]
  },
  {
   "cell_type": "code",
   "execution_count": 15,
   "id": "7416800f",
   "metadata": {
    "ExecuteTime": {
     "end_time": "2021-11-13T03:16:10.733016Z",
     "start_time": "2021-11-13T03:16:10.718013Z"
    }
   },
   "outputs": [
    {
     "data": {
      "text/html": [
       "<div>\n",
       "<style scoped>\n",
       "    .dataframe tbody tr th:only-of-type {\n",
       "        vertical-align: middle;\n",
       "    }\n",
       "\n",
       "    .dataframe tbody tr th {\n",
       "        vertical-align: top;\n",
       "    }\n",
       "\n",
       "    .dataframe thead th {\n",
       "        text-align: right;\n",
       "    }\n",
       "</style>\n",
       "<table border=\"1\" class=\"dataframe\">\n",
       "  <thead>\n",
       "    <tr style=\"text-align: right;\">\n",
       "      <th></th>\n",
       "      <th>norm_dist</th>\n",
       "      <th>ints</th>\n",
       "    </tr>\n",
       "  </thead>\n",
       "  <tbody>\n",
       "    <tr>\n",
       "      <th>0</th>\n",
       "      <td>0.523698</td>\n",
       "      <td>35</td>\n",
       "    </tr>\n",
       "    <tr>\n",
       "      <th>1</th>\n",
       "      <td>0.742668</td>\n",
       "      <td>0</td>\n",
       "    </tr>\n",
       "    <tr>\n",
       "      <th>2</th>\n",
       "      <td>0.211612</td>\n",
       "      <td>39</td>\n",
       "    </tr>\n",
       "    <tr>\n",
       "      <th>3</th>\n",
       "      <td>-1.767319</td>\n",
       "      <td>3</td>\n",
       "    </tr>\n",
       "    <tr>\n",
       "      <th>4</th>\n",
       "      <td>0.890937</td>\n",
       "      <td>38</td>\n",
       "    </tr>\n",
       "  </tbody>\n",
       "</table>\n",
       "</div>"
      ],
      "text/plain": [
       "   norm_dist  ints\n",
       "0   0.523698    35\n",
       "1   0.742668     0\n",
       "2   0.211612    39\n",
       "3  -1.767319     3\n",
       "4   0.890937    38"
      ]
     },
     "execution_count": 15,
     "metadata": {},
     "output_type": "execute_result"
    }
   ],
   "source": [
    "sample_df.head()"
   ]
  },
  {
   "cell_type": "code",
   "execution_count": 16,
   "id": "65bdb346",
   "metadata": {
    "ExecuteTime": {
     "end_time": "2021-11-13T03:16:10.749020Z",
     "start_time": "2021-11-13T03:16:10.734017Z"
    }
   },
   "outputs": [],
   "source": [
    "sample_df.to_csv(str(data_path) + '\\\\test.csv', index=False)"
   ]
  },
  {
   "cell_type": "code",
   "execution_count": 17,
   "id": "b5b37b4a",
   "metadata": {
    "ExecuteTime": {
     "end_time": "2021-11-13T03:16:10.765024Z",
     "start_time": "2021-11-13T03:16:10.750020Z"
    }
   },
   "outputs": [
    {
     "data": {
      "text/plain": [
       "norm_dist    float64\n",
       "ints           int32\n",
       "dtype: object"
      ]
     },
     "execution_count": 17,
     "metadata": {},
     "output_type": "execute_result"
    }
   ],
   "source": [
    "sample_df.dtypes"
   ]
  },
  {
   "cell_type": "code",
   "execution_count": 18,
   "id": "f5232a28",
   "metadata": {
    "ExecuteTime": {
     "end_time": "2021-11-13T03:16:10.781027Z",
     "start_time": "2021-11-13T03:16:10.766024Z"
    }
   },
   "outputs": [
    {
     "name": "stdout",
     "output_type": "stream",
     "text": [
      "the median is 20.5\n",
      "the mean is 20.87\n"
     ]
    }
   ],
   "source": [
    "median = sample_df.ints.median()\n",
    "mean = sample_df.ints.mean()\n",
    "print(\"the median is\", median)\n",
    "print(\"the mean is\", mean)"
   ]
  },
  {
   "cell_type": "code",
   "execution_count": 19,
   "id": "712b7dad",
   "metadata": {
    "ExecuteTime": {
     "end_time": "2021-11-13T03:16:10.797031Z",
     "start_time": "2021-11-13T03:16:10.782028Z"
    }
   },
   "outputs": [
    {
     "data": {
      "text/html": [
       "<div>\n",
       "<style scoped>\n",
       "    .dataframe tbody tr th:only-of-type {\n",
       "        vertical-align: middle;\n",
       "    }\n",
       "\n",
       "    .dataframe tbody tr th {\n",
       "        vertical-align: top;\n",
       "    }\n",
       "\n",
       "    .dataframe thead th {\n",
       "        text-align: right;\n",
       "    }\n",
       "</style>\n",
       "<table border=\"1\" class=\"dataframe\">\n",
       "  <thead>\n",
       "    <tr style=\"text-align: right;\">\n",
       "      <th></th>\n",
       "      <th>norm_dist</th>\n",
       "      <th>ints</th>\n",
       "    </tr>\n",
       "  </thead>\n",
       "  <tbody>\n",
       "    <tr>\n",
       "      <th>1</th>\n",
       "      <td>0.742668</td>\n",
       "      <td>0</td>\n",
       "    </tr>\n",
       "    <tr>\n",
       "      <th>59</th>\n",
       "      <td>-0.362825</td>\n",
       "      <td>0</td>\n",
       "    </tr>\n",
       "    <tr>\n",
       "      <th>64</th>\n",
       "      <td>-0.872576</td>\n",
       "      <td>1</td>\n",
       "    </tr>\n",
       "    <tr>\n",
       "      <th>20</th>\n",
       "      <td>0.880518</td>\n",
       "      <td>1</td>\n",
       "    </tr>\n",
       "    <tr>\n",
       "      <th>39</th>\n",
       "      <td>0.573344</td>\n",
       "      <td>2</td>\n",
       "    </tr>\n",
       "    <tr>\n",
       "      <th>...</th>\n",
       "      <td>...</td>\n",
       "      <td>...</td>\n",
       "    </tr>\n",
       "    <tr>\n",
       "      <th>45</th>\n",
       "      <td>-0.775737</td>\n",
       "      <td>39</td>\n",
       "    </tr>\n",
       "    <tr>\n",
       "      <th>52</th>\n",
       "      <td>-0.177247</td>\n",
       "      <td>39</td>\n",
       "    </tr>\n",
       "    <tr>\n",
       "      <th>6</th>\n",
       "      <td>-1.013122</td>\n",
       "      <td>40</td>\n",
       "    </tr>\n",
       "    <tr>\n",
       "      <th>35</th>\n",
       "      <td>0.558369</td>\n",
       "      <td>41</td>\n",
       "    </tr>\n",
       "    <tr>\n",
       "      <th>88</th>\n",
       "      <td>-0.476094</td>\n",
       "      <td>41</td>\n",
       "    </tr>\n",
       "  </tbody>\n",
       "</table>\n",
       "<p>100 rows × 2 columns</p>\n",
       "</div>"
      ],
      "text/plain": [
       "    norm_dist  ints\n",
       "1    0.742668     0\n",
       "59  -0.362825     0\n",
       "64  -0.872576     1\n",
       "20   0.880518     1\n",
       "39   0.573344     2\n",
       "..        ...   ...\n",
       "45  -0.775737    39\n",
       "52  -0.177247    39\n",
       "6   -1.013122    40\n",
       "35   0.558369    41\n",
       "88  -0.476094    41\n",
       "\n",
       "[100 rows x 2 columns]"
      ]
     },
     "execution_count": 19,
     "metadata": {},
     "output_type": "execute_result"
    }
   ],
   "source": [
    "sample_df.sort_values(by='ints')"
   ]
  },
  {
   "cell_type": "code",
   "execution_count": 20,
   "id": "6dd9e2e7",
   "metadata": {
    "ExecuteTime": {
     "end_time": "2021-11-13T03:16:10.906744Z",
     "start_time": "2021-11-13T03:16:10.799031Z"
    }
   },
   "outputs": [
    {
     "data": {
      "text/plain": [
       "<matplotlib.collections.PathCollection at 0x21ad9bfc460>"
      ]
     },
     "execution_count": 20,
     "metadata": {},
     "output_type": "execute_result"
    },
    {
     "data": {
      "image/png": "[encoded data removed]",
      "text/plain": [
       "<Figure size 432x288 with 1 Axes>"
      ]
     },
     "metadata": {
      "needs_background": "light"
     },
     "output_type": "display_data"
    }
   ],
   "source": [
    "x = col_a\n",
    "y = col_b\n",
    "plt.scatter(x, y)"
   ]
  },
  {
   "cell_type": "markdown",
   "id": "3c7a93f4",
   "metadata": {},
   "source": [
    "## Harmless change to see if I can send this back up to the repo"
   ]
  },
  {
   "cell_type": "code",
   "execution_count": null,
   "id": "7c595fe7",
   "metadata": {},
   "outputs": [],
   "source": []
  }
 ],
 "metadata": {
  "kernelspec": {
   "display_name": "Python 3 (ipykernel)",
   "language": "python",
   "name": "python3"
  },
  "language_info": {
   "codemirror_mode": {
    "name": "ipython",
    "version": 3
   },
   "file_extension": ".py",
   "mimetype": "text/x-python",
   "name": "python",
   "nbconvert_exporter": "python",
   "pygments_lexer": "ipython3",
   "version": "3.9.7"
  },
  "toc": {
   "base_numbering": 1,
   "nav_menu": {},
   "number_sections": true,
   "sideBar": true,
   "skip_h1_title": false,
   "title_cell": "Table of Contents",
   "title_sidebar": "Contents",
   "toc_cell": false,
   "toc_position": {},
   "toc_section_display": true,
   "toc_window_display": false
  },
  "varInspector": {
   "cols": {
    "lenName": 16,
    "lenType": 16,
    "lenVar": 40
   },
   "kernels_config": {
    "python": {
     "delete_cmd_postfix": "",
     "delete_cmd_prefix": "del ",
     "library": "var_list.py",
     "varRefreshCmd": "print(var_dic_list())"
    },
    "r": {
     "delete_cmd_postfix": ") ",
     "delete_cmd_prefix": "rm(",
     "library": "var_list.r",
     "varRefreshCmd": "cat(var_dic_list()) "
    }
   },
   "types_to_exclude": [
    "module",
    "function",
    "builtin_function_or_method",
    "instance",
    "_Feature"
   ],
   "window_display": false
  }
 },
 "nbformat": 4,
 "nbformat_minor": 5
}
