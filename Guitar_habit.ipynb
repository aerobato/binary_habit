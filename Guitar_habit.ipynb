{
 "cells": [
  {
   "cell_type": "code",
   "execution_count": 4,
   "id": "04cfdc04",
   "metadata": {
    "ExecuteTime": {
     "end_time": "2021-11-17T02:48:26.641979Z",
     "start_time": "2021-11-17T02:48:26.024616Z"
    }
   },
   "outputs": [],
   "source": [
    "import numpy as np\n",
    "import pandas as pd\n",
    "import matplotlib.pyplot as plt\n",
    "\n",
    "from pathlib import Path"
   ]
  },
  {
   "cell_type": "code",
   "execution_count": 5,
   "id": "e5802e7f",
   "metadata": {
    "ExecuteTime": {
     "end_time": "2021-11-17T02:48:28.978343Z",
     "start_time": "2021-11-17T02:48:28.962460Z"
    }
   },
   "outputs": [],
   "source": [
    "# Define file locations\n",
    "\n",
    "data_path = Path.cwd() / 'data'\n",
    "reports_path = Path.cwd() / 'reports'\n",
    "plotting_path = Path.cwd() / 'visualizations'"
   ]
  },
  {
   "cell_type": "code",
   "execution_count": 15,
   "id": "c17a4d6f",
   "metadata": {
    "ExecuteTime": {
     "end_time": "2021-11-17T02:58:49.955125Z",
     "start_time": "2021-11-17T02:58:49.929405Z"
    }
   },
   "outputs": [
    {
     "data": {
      "text/html": [
       "<div>\n",
       "<style scoped>\n",
       "    .dataframe tbody tr th:only-of-type {\n",
       "        vertical-align: middle;\n",
       "    }\n",
       "\n",
       "    .dataframe tbody tr th {\n",
       "        vertical-align: top;\n",
       "    }\n",
       "\n",
       "    .dataframe thead th {\n",
       "        text-align: right;\n",
       "    }\n",
       "</style>\n",
       "<table border=\"1\" class=\"dataframe\">\n",
       "  <thead>\n",
       "    <tr style=\"text-align: right;\">\n",
       "      <th></th>\n",
       "      <th>Jam guitar – Date</th>\n",
       "      <th>Jam Guitar – Value</th>\n",
       "    </tr>\n",
       "  </thead>\n",
       "  <tbody>\n",
       "    <tr>\n",
       "      <th>0</th>\n",
       "      <td>Entry(timestamp=2021-11-14</td>\n",
       "      <td>value=-1)</td>\n",
       "    </tr>\n",
       "    <tr>\n",
       "      <th>1</th>\n",
       "      <td>Entry(timestamp=2021-11-13</td>\n",
       "      <td>value=2)</td>\n",
       "    </tr>\n",
       "    <tr>\n",
       "      <th>2</th>\n",
       "      <td>Entry(timestamp=2021-11-12</td>\n",
       "      <td>value=0)</td>\n",
       "    </tr>\n",
       "    <tr>\n",
       "      <th>3</th>\n",
       "      <td>Entry(timestamp=2021-11-11</td>\n",
       "      <td>value=2)</td>\n",
       "    </tr>\n",
       "    <tr>\n",
       "      <th>4</th>\n",
       "      <td>Entry(timestamp=2021-11-10</td>\n",
       "      <td>value=2)</td>\n",
       "    </tr>\n",
       "  </tbody>\n",
       "</table>\n",
       "</div>"
      ],
      "text/plain": [
       "            Jam guitar – Date Jam Guitar – Value\n",
       "0  Entry(timestamp=2021-11-14          value=-1)\n",
       "1  Entry(timestamp=2021-11-13           value=2)\n",
       "2  Entry(timestamp=2021-11-12           value=0)\n",
       "3  Entry(timestamp=2021-11-11           value=2)\n",
       "4  Entry(timestamp=2021-11-10           value=2)"
      ]
     },
     "execution_count": 15,
     "metadata": {},
     "output_type": "execute_result"
    }
   ],
   "source": [
    "guitar_df = pd.read_csv('data/Guitar_Habit_Data.csv')\n",
    "guitar_df.head()"
   ]
  },
  {
   "cell_type": "code",
   "execution_count": null,
   "id": "6723217d",
   "metadata": {},
   "outputs": [],
   "source": []
  }
 ],
 "metadata": {
  "kernelspec": {
   "display_name": "Python 3 (ipykernel)",
   "language": "python",
   "name": "python3"
  },
  "language_info": {
   "codemirror_mode": {
    "name": "ipython",
    "version": 3
   },
   "file_extension": ".py",
   "mimetype": "text/x-python",
   "name": "python",
   "nbconvert_exporter": "python",
   "pygments_lexer": "ipython3",
   "version": "3.8.8"
  },
  "varInspector": {
   "cols": {
    "lenName": 16,
    "lenType": 16,
    "lenVar": 40
   },
   "kernels_config": {
    "python": {
     "delete_cmd_postfix": "",
     "delete_cmd_prefix": "del ",
     "library": "var_list.py",
     "varRefreshCmd": "print(var_dic_list())"
    },
    "r": {
     "delete_cmd_postfix": ") ",
     "delete_cmd_prefix": "rm(",
     "library": "var_list.r",
     "varRefreshCmd": "cat(var_dic_list()) "
    }
   },
   "types_to_exclude": [
    "module",
    "function",
    "builtin_function_or_method",
    "instance",
    "_Feature"
   ],
   "window_display": false
  }
 },
 "nbformat": 4,
 "nbformat_minor": 5
}
